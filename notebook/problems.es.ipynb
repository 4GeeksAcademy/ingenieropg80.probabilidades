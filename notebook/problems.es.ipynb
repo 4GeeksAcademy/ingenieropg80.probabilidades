{
 "cells": [
  {
   "cell_type": "markdown",
   "id": "a41f3622",
   "metadata": {},
   "source": [
    "# Ejercicios de probabilidad"
   ]
  },
  {
   "cell_type": "markdown",
   "id": "a6bdbd89",
   "metadata": {},
   "source": [
    "## Ejercicio 1 \n",
    "\n",
    "Dos dados se lanzan una vez y se observa el total obtenido. Usa una simulación para encontrar la probabilidad estimada de que la puntuación sea mayor a 7 o un número par. Una simulación es una repetición del mismo experimento multiples veces para observar su comportamiento:\n",
    "\n",
    "- Ejecuta el experimento 1000 veces (lanza 2 dados 1000 veces, y suma el número de ambos dados).\n",
    "- Lleva ua cuenta de los números y las veces que la suma fue mayor a 7 o un número par.\n",
    "- Divide el número del paso 2 entre el número de iteraciones(1000)."
   ]
  },
  {
   "cell_type": "code",
   "execution_count": 9,
   "id": "8939d892",
   "metadata": {},
   "outputs": [
    {
     "name": "stdout",
     "output_type": "stream",
     "text": [
      " Probabilidad estimada: 0.689\n",
      "Veces que la suma fue > 7 o par: 689\n",
      "Frecuencia de cada suma obtenida:\n",
      "Suma 2: 34 veces\n",
      "Suma 3: 49 veces\n",
      "Suma 4: 94 veces\n",
      "Suma 5: 108 veces\n",
      "Suma 6: 134 veces\n",
      "Suma 7: 154 veces\n",
      "Suma 8: 157 veces\n",
      "Suma 9: 104 veces\n",
      "Suma 10: 80 veces\n",
      "Suma 11: 56 veces\n",
      "Suma 12: 30 veces\n"
     ]
    }
   ],
   "source": [
    "import numpy as np\n",
    "\n",
    "n = 1000\n",
    "\n",
    "dado1 = np.random.randint(1, 7, size=n)\n",
    "dado2 = np.random.randint(1, 7, size=n) #el 7 no esta incluido \n",
    "suma = dado1 + dado2\n",
    "condicion = (suma > 7) | (suma % 2 == 0) # Condicin: suma > 7 o número par\n",
    "veces_condicion = np.sum(condicion) # Cuántas veces se cumple la condición\n",
    "probabilidad = veces_condicion / n\n",
    "print(f\" Probabilidad estimada: {probabilidad}\")\n",
    "print(f\"Veces que la suma fue > 7 o par: {veces_condicion}\")\n",
    "\n",
    "valores, conteos = np.unique(suma, return_counts=True)\n",
    "print(\"Frecuencia de cada suma obtenida:\")\n",
    "for valor, cuenta in zip(valores, conteos):\n",
    "    print(f\"Suma {valor}: {cuenta} veces\")\n",
    "\n"
   ]
  },
  {
   "cell_type": "markdown",
   "id": "55732bca",
   "metadata": {},
   "source": [
    "## Ejercicio 2\n",
    "\n",
    "Una caja contiene 10 bolas blancas, 20 bolas rojas y 30 bolas verdes. Si tomamos 5 bolas de la caja reemplazándolas (tomando una bola, anotando el color y luego regresandola a la caja). Queremos saber la probabilidad de:\n",
    "\n",
    "1. Tomar 3 blancas y 2 rojas.\n",
    "2. Toas todas del mismo color.\n",
    "\n",
    "Ejecuta el experimento 1000 veces y calcula las probabilidades que mencionadas."
   ]
  },
  {
   "cell_type": "code",
   "execution_count": null,
   "id": "23244d20",
   "metadata": {},
   "outputs": [
    {
     "name": "stdout",
     "output_type": "stream",
     "text": [
      "{0: 'White', 1: 'White', 2: 'White', 3: 'White', 4: 'White', 5: 'White', 6: 'White', 7: 'White', 8: 'White', 9: 'White', 10: 'Red', 11: 'Red', 12: 'Red', 13: 'Red', 14: 'Red', 15: 'Red', 16: 'Red', 17: 'Red', 18: 'Red', 19: 'Red', 20: 'Red', 21: 'Red', 22: 'Red', 23: 'Red', 24: 'Red', 25: 'Red', 26: 'Red', 27: 'Red', 28: 'Red', 29: 'Red', 30: 'Green', 31: 'Green', 32: 'Green', 33: 'Green', 34: 'Green', 35: 'Green', 36: 'Green', 37: 'Green', 38: 'Green', 39: 'Green', 40: 'Green', 41: 'Green', 42: 'Green', 43: 'Green', 44: 'Green', 45: 'Green', 46: 'Green', 47: 'Green', 48: 'Green', 49: 'Green', 50: 'Green', 51: 'Green', 52: 'Green', 53: 'Green', 54: 'Green', 55: 'Green', 56: 'Green', 57: 'Green', 58: 'Green', 59: 'Green'}\n",
      " Probabilidad que salgan 3 blancas y 2 rojas: 0.008\n",
      "Probabilidad de que salgan 5 bolas del mismo color: 0.038\n"
     ]
    }
   ],
   "source": [
    "ball_box = {}\n",
    "\n",
    "# Crea la cajas con las bolas\n",
    "for i in range(60):\n",
    "    if i < 10:\n",
    "        ball_box[i] = \"White\"\n",
    "    elif (i > 9) and (i < 30):\n",
    "        ball_box[i] = \"Red\"\n",
    "    else:\n",
    "        ball_box[i] = \"Green\"\n",
    "print(ball_box)\n",
    "\n",
    "bolas = list(ball_box.values()) # convierte en lista       \n",
    "\n",
    "exitos = 0 #contador\n",
    "simulaciones = 1000\n",
    "for i in range(simulaciones):\n",
    "    muestra = np.random.choice(bolas, size=5)\n",
    "    blancas = np.sum(np.array(muestra) == \"White\")\n",
    "    rojas = np.sum(np.array(muestra) == \"Red\")\n",
    "    if blancas == 3 and rojas == 2:\n",
    "        exitos += 1\n",
    "probabilidad= exitos / simulaciones\n",
    "#print(f\" Veces que salieron exactamente 3 blancas y 2 rojas: {exitos}\"\n",
    "print(f\" Probabilidad que salgan 3 blancas y 2 rojas: {probabilidad}\")\n",
    "\n",
    "simulaciones = 1000\n",
    "count = 0\n",
    "\n",
    "for i in range(simulaciones):\n",
    "    muestra = np.random.choice(bolas, size=5, replace=True)  # con reemplazo\n",
    "    if all(color == muestra[0] for color in muestra):\n",
    "         count += 1\n",
    "probabilidad_mismo_color = count / simulaciones\n",
    "print(f\"Probabilidad de que salgan 5 bolas del mismo color: {probabilidad_mismo_color}\")\n"
   ]
  }
 ],
 "metadata": {
  "kernelspec": {
   "display_name": "Python 3",
   "language": "python",
   "name": "python3"
  },
  "language_info": {
   "codemirror_mode": {
    "name": "ipython",
    "version": 3
   },
   "file_extension": ".py",
   "mimetype": "text/x-python",
   "name": "python",
   "nbconvert_exporter": "python",
   "pygments_lexer": "ipython3",
   "version": "3.11.4"
  }
 },
 "nbformat": 4,
 "nbformat_minor": 5
}
